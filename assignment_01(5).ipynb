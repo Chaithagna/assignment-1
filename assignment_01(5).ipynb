{
  "nbformat": 4,
  "nbformat_minor": 0,
  "metadata": {
    "colab": {
      "provenance": []
    },
    "kernelspec": {
      "name": "python3",
      "display_name": "Python 3"
    },
    "language_info": {
      "name": "python"
    }
  },
  "cells": [
    {
      "cell_type": "code",
      "execution_count": null,
      "metadata": {
        "id": "WPlXGgw0e3kL"
      },
      "outputs": [],
      "source": []
    },
    {
      "cell_type": "markdown",
      "source": [
        "1.Explain the basic structure of an HTML page. Why is it important to follow\n",
        "this structure?\n",
        "  -"
      ],
      "metadata": {
        "id": "paZB6zuze-dZ"
      }
    },
    {
      "cell_type": "code",
      "source": [
        "<!DOCTYPE html>\n",
        "<html>\n",
        "  <head>\n",
        "    <title>Basic structure </title>\n",
        "  </head>\n",
        "  <body>\n",
        "    <h1> Welcome to website </h1>\n",
        "    <p>This is a paragragh tag </p>\n",
        "  </body>\n",
        "</html>\n"
      ],
      "metadata": {
        "id": "P0oOWgDMfhZ9"
      },
      "execution_count": null,
      "outputs": []
    },
    {
      "cell_type": "markdown",
      "source": [],
      "metadata": {
        "id": "UOLObnL_iyBV"
      }
    },
    {
      "cell_type": "markdown",
      "source": [
        "Here from above;  \n",
        "**DOCTYPE html**- refered to the HTML5 version  \n",
        "**html tag**-root element of the code,refferd to the html content inside it.  \n",
        "**head tag**-head section of the code and contains title and meta section  \n",
        "**body tag**-inside it there is all visible part of the web page like imagr,text,links etc.,  \n"
      ],
      "metadata": {
        "id": "5WZ5RRjxi0aQ"
      }
    },
    {
      "cell_type": "markdown",
      "source": [],
      "metadata": {
        "id": "lIv01xQzk_-Y"
      }
    },
    {
      "cell_type": "markdown",
      "source": [],
      "metadata": {
        "id": "kkVchYzVXdud"
      }
    },
    {
      "cell_type": "markdown",
      "source": [
        "* It is very important because it is then basic structure of html.  "
      ],
      "metadata": {
        "id": "eXe6bKK4md5E"
      }
    },
    {
      "cell_type": "markdown",
      "source": [
        " - The structure is very important for identification of browser.\n",
        " - It gives good structure and meaning for humans as well as for macines."
      ],
      "metadata": {
        "id": "9vOleLkEXgOG"
      }
    },
    {
      "cell_type": "markdown",
      "source": [
        "2: You’re building a small personal profile page. Which HTML tags will you\n",
        "use to highlight your name as a heading, describe yourself in a paragraph, and\n",
        "emphasize a key skill?  \n"
      ],
      "metadata": {
        "id": "SxxoMI4-Y3nr"
      }
    },
    {
      "cell_type": "code",
      "source": [
        "from IPython.core.display import display,HTML\n",
        "display(HTML('''\n",
        "\n",
        "<!DOCTYPE html>\n",
        "<html>\n",
        "<head>\n",
        "  <title>MY PROFILE </title>\n",
        "</head>\n",
        "<body>\n",
        "  <h1>Chaithagna</h1>\n",
        "  <p>!HELLO I am passinate and curious learner  of knowing new technoligies which are happening around the world.</p>\n",
        "  <br>\n",
        "  <p>One of my key strength is web development and communicating skills </p>\n",
        "</body>\n",
        "</html>\n",
        "'''))\n"
      ],
      "metadata": {
        "id": "uq2N3CoQcR44",
        "collapsed": true,
        "colab": {
          "base_uri": "https://localhost:8080/",
          "height": 147
        },
        "outputId": "306accdd-100a-4ebe-8f55-4dbf5b001f91"
      },
      "execution_count": 2,
      "outputs": [
        {
          "output_type": "display_data",
          "data": {
            "text/plain": [
              "<IPython.core.display.HTML object>"
            ],
            "text/html": [
              "\n",
              "\n",
              "<!DOCTYPE html>\n",
              "<html>\n",
              "<head>\n",
              "  <title>MY PROFILE </title>\n",
              "</head>\n",
              "<body>\n",
              "  <h1>Chaithagna</h1>\n",
              "  <p>!HELLO I am passinate and curious learner  of knowing new technoligies which are happening around the world.</p>\n",
              "  <br>\n",
              "  <p>One of my key strength is web development and communicating skills </p>\n",
              "</body>\n",
              "</html>\n"
            ]
          },
          "metadata": {}
        }
      ]
    },
    {
      "cell_type": "code",
      "source": [
        "#3: Look at the code below. Can you find and fix the mistake?\n",
        "#<!-- This is an HTML comment\n",
        "#<h1>Welcome to my website</h1>\n",
        "#Answer\n",
        "#after fixing the code the code is\n",
        "\n",
        "from IPython.core.display import display,HTML\n",
        "display(HTML('''\n",
        "<!DOCTYPE html>\n",
        "<body>\n",
        "<!--This is an HTML comment-->\n",
        "<h1> Welcome to my website </h1>\n",
        "</body>\n",
        "'''))"
      ],
      "metadata": {
        "id": "FDwxFtR8g8NK",
        "colab": {
          "base_uri": "https://localhost:8080/",
          "height": 74
        },
        "outputId": "12e85691-ae2a-442f-be95-6a676e57c1de"
      },
      "execution_count": 12,
      "outputs": [
        {
          "output_type": "display_data",
          "data": {
            "text/plain": [
              "<IPython.core.display.HTML object>"
            ],
            "text/html": [
              "\n",
              "<!DOCTYPE html>\n",
              "<body>\n",
              "<!--This is an HTML comment-->\n",
              "<h1> Welcome to my website </h1>\n",
              "</body>\n"
            ]
          },
          "metadata": {}
        }
      ]
    },
    {
      "cell_type": "markdown",
      "source": [
        "4: You’re creating a form that asks the user to enter their name, select their\n",
        "country from a list, and click a button to submit. Write the HTML code for this.  \n",
        "Answer:"
      ],
      "metadata": {
        "id": "e2H1EPlShzbE"
      }
    },
    {
      "cell_type": "code",
      "source": [
        "from IPython.core.display import display,HTML\n",
        "display(HTML('''\n",
        "<!DOCTYPE html>\n",
        "<html>\n",
        "  <head>\n",
        "    <title>Sample form </title>\n",
        "  </head>\n",
        "  <body>\n",
        "    <form action=\"jk.php\" method=\"post\">\n",
        "      <label> Name:</label><input type=\"text\" placeholder=\"enter your name\" name=\"one\">\n",
        "      <br>\n",
        "      <p>select your country </p>\n",
        "      <select name=\"country\">\n",
        "        <option value=\"India\">India</option>\n",
        "        <option value=\"Germany\">Germany</option>\n",
        "        <option value=\"USA\">USA</option>\n",
        "        <option value=\"Australia\">Austarlia</option>\n",
        "      </select>\n",
        "      <br>\n",
        "      <input type=\"submit\" placeholder=\"submit\">\n",
        "    </form>\n",
        "  </body>\n",
        "</html>\n",
        "'''))"
      ],
      "metadata": {
        "id": "sBS_NinIiAVO",
        "colab": {
          "base_uri": "https://localhost:8080/",
          "height": 105
        },
        "outputId": "dc48bbf7-25a2-4481-9b7a-b3647d216984"
      },
      "execution_count": 5,
      "outputs": [
        {
          "output_type": "display_data",
          "data": {
            "text/plain": [
              "<IPython.core.display.HTML object>"
            ],
            "text/html": [
              "\n",
              "<!DOCTYPE html>\n",
              "<html>\n",
              "  <head>\n",
              "    <title>Sample form </title>\n",
              "  </head>\n",
              "  <body>\n",
              "    <form action=\"jk.php\" method=\"post\">\n",
              "      <label> Name:</label><input type=\"text\" placeholder=\"enter your name\" name=\"one\">\n",
              "      <br>\n",
              "      <p>select your country </p>\n",
              "      <select name=\"country\">\n",
              "        <option value=\"India\">India</option>\n",
              "        <option value=\"Germany\">Germany</option>\n",
              "        <option value=\"USA\">USA</option>\n",
              "        <option value=\"Australia\">Austarlia</option>\n",
              "      </select>\n",
              "      <br>\n",
              "      <input type=\"submit\" placeholder=\"submit\">\n",
              "    </form>\n",
              "  </body>\n",
              "</html>\n"
            ]
          },
          "metadata": {}
        }
      ]
    },
    {
      "cell_type": "markdown",
      "source": [
        "5: Write short HTML code to show your favorite fruits in a bulleted list and\n",
        "your top 3 programming languages in a numbered list."
      ],
      "metadata": {
        "id": "oRsqVnHs-VW9"
      }
    },
    {
      "cell_type": "code",
      "source": [
        "#Answer\n",
        "from IPython.core.display import display,HTML\n",
        "display(HTML('''\n",
        "<!DOCTYPE html>\n",
        "<html>\n",
        "  <head>\n",
        "    <title>Unorderd and ordered lists </title>\n",
        "  </head>\n",
        "  <body>\n",
        "    <h4>My favourite fruits </h4>\n",
        "    <ul>\n",
        "      <li>Mango</li>\n",
        "      <li>Jack fruit</li>\n",
        "      <li>Caustard Apple</li>\n",
        "      <li>Gauva</li>\n",
        "      <li>grapes</li>\n",
        "    </ul>\n",
        "    <h4>Top3 programming languages</h4>\n",
        "    <ol>\n",
        "      <li> Python</li>\n",
        "      <li>Java Script</li>\n",
        "      <li>Java</li>\n",
        "    </ol>\n",
        "  </body>\n",
        "</html>\n",
        "\n",
        "'''))"
      ],
      "metadata": {
        "id": "T23y4IZ_-aNA",
        "colab": {
          "base_uri": "https://localhost:8080/",
          "height": 264
        },
        "outputId": "846e0437-1135-453c-f250-0e14aa973516"
      },
      "execution_count": 6,
      "outputs": [
        {
          "output_type": "display_data",
          "data": {
            "text/plain": [
              "<IPython.core.display.HTML object>"
            ],
            "text/html": [
              "\n",
              "<!DOCTYPE html>\n",
              "<html>\n",
              "  <head>\n",
              "    <title>Unorderd and ordered lists </title>\n",
              "  </head>\n",
              "  <body>\n",
              "    <h4>My favourite fruits </h4>\n",
              "    <ul>\n",
              "      <li>Mango</li>\n",
              "      <li>Jack fruit</li>\n",
              "      <li>Caustard Apple</li>\n",
              "      <li>Gauva</li>\n",
              "      <li>grapes</li>\n",
              "    </ul>\n",
              "    <h4>Top3 programming languages</h4>\n",
              "    <ol>\n",
              "      <li> Python</li>\n",
              "      <li>Java Script</li>\n",
              "      <li>Java</li>\n",
              "    </ol>\n",
              "  </body>\n",
              "</html>\n",
              "\n"
            ]
          },
          "metadata": {}
        }
      ]
    },
    {
      "cell_type": "markdown",
      "source": [
        " 6: Ravi wants to leave a note in his HTML file so that only other developers\n",
        "can see it, not the users on the website. How should he do this? Why are such notes\n",
        "useful?"
      ],
      "metadata": {
        "id": "rSxHX3qZAPz9"
      }
    },
    {
      "cell_type": "code",
      "source": [
        "#Answer\n",
        "from IPython.core.display import display,HTML\n",
        "display(HTML('''\n",
        "<!DOCTYPE html>\n",
        "<html>\n",
        "  <head>\n",
        "    <title>Using of comments</title>\n",
        "  </head>\n",
        "  <body>\n",
        "    <!--This is comment-->\n",
        "    <!--This is a heading tag-->\n",
        "    <h1>Welcome</h1>\n",
        "  </body>\n",
        "</html>\n",
        "'''))"
      ],
      "metadata": {
        "id": "QRjqRyKEh7Hm",
        "colab": {
          "base_uri": "https://localhost:8080/",
          "height": 74
        },
        "outputId": "479dc66d-c73b-4e15-92f8-17b201162cf0"
      },
      "execution_count": 7,
      "outputs": [
        {
          "output_type": "display_data",
          "data": {
            "text/plain": [
              "<IPython.core.display.HTML object>"
            ],
            "text/html": [
              "\n",
              "<!DOCTYPE html>\n",
              "<html>\n",
              "  <head>\n",
              "    <title>Using of comments</title>\n",
              "  </head>\n",
              "  <body>\n",
              "    <!--This is comment-->\n",
              "    <!--This is a heading tag-->\n",
              "    <h1>Welcome</h1>\n",
              "  </body>\n",
              "</html>\n"
            ]
          },
          "metadata": {}
        }
      ]
    },
    {
      "cell_type": "markdown",
      "source": [
        "-  The comments are used for understanding of code and structure for developera who read and modify that code.  \n",
        "-  They improve collaboration by proving context for others working on same file."
      ],
      "metadata": {
        "id": "fEF0sPdNBodz"
      }
    },
    {
      "cell_type": "code",
      "source": [],
      "metadata": {
        "id": "_QAkMw9Kh197"
      },
      "execution_count": null,
      "outputs": []
    },
    {
      "cell_type": "markdown",
      "source": [
        " 7: Here’s a form snippet. Can you spot the error and rewrite the correct\n",
        "version?"
      ],
      "metadata": {
        "id": "bKOVbjJ1C1bq"
      }
    },
    {
      "cell_type": "code",
      "source": [
        "'''//<form>\n",
        "<input name=\"email\">\n",
        "<select>\n",
        "<option>India</option>\n",
        "</select>\n",
        "<button>Send</buton>\n",
        "</form>'''"
      ],
      "metadata": {
        "id": "HEPoEN8GDBV3",
        "colab": {
          "base_uri": "https://localhost:8080/",
          "height": 35
        },
        "outputId": "845fa89c-c137-4450-e8a6-9ca5a0e09aa6"
      },
      "execution_count": 10,
      "outputs": [
        {
          "output_type": "execute_result",
          "data": {
            "text/plain": [
              "'//<form>\\n<input name=\"email\">\\n<select>\\n<option>India</option>\\n</select>\\n<button>Send</buton>\\n</form>'"
            ],
            "application/vnd.google.colaboratory.intrinsic+json": {
              "type": "string"
            }
          },
          "metadata": {},
          "execution_count": 10
        }
      ]
    },
    {
      "cell_type": "code",
      "source": [
        "#Answer\n",
        "from IPython.core.display import display,HTML\n",
        "display(HTML('''\n",
        "<!DOCTYPE html>\n",
        "<body>\n",
        "<form>\n",
        "<input type=\"email\">\n",
        "<select>\n",
        "<option>India</option>\n",
        "</select>\n",
        "<button>Send</button>\n",
        "</form>\n",
        "</body>\n",
        "'''))"
      ],
      "metadata": {
        "id": "FZm2UjjKDO4y",
        "colab": {
          "base_uri": "https://localhost:8080/",
          "height": 38
        },
        "outputId": "b0235668-2197-4da7-b979-a75bd3c99fe9"
      },
      "execution_count": 11,
      "outputs": [
        {
          "output_type": "display_data",
          "data": {
            "text/plain": [
              "<IPython.core.display.HTML object>"
            ],
            "text/html": [
              "\n",
              "<!DOCTYPE html>\n",
              "<body>\n",
              "<form>\n",
              "<input type=\"email\">\n",
              "<select>\n",
              "<option>India</option>\n",
              "</select>\n",
              "<button>Send</button>\n",
              "</form>\n",
              "</body>\n"
            ]
          },
          "metadata": {}
        }
      ]
    }
  ]
}